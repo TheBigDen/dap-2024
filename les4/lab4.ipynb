{
  "cells": [
    {
      "cell_type": "markdown",
      "metadata": {
        "id": "view-in-github",
        "colab_type": "text"
      },
      "source": [
        "<a href=\"https://colab.research.google.com/github/TheBigDen/dap-2024/blob/main/les4/lab4.ipynb\" target=\"_parent\"><img src=\"https://colab.research.google.com/assets/colab-badge.svg\" alt=\"Open In Colab\"/></a>"
      ]
    },
    {
      "cell_type": "markdown",
      "metadata": {
        "id": "VZ3AJVkRADil"
      },
      "source": [
        "# Лабораторная работа №4.\n",
        "# Анализ данных пассажиров \"Титаника\"\n",
        "\n",
        "Гибель Титаника – одно из самых печально известных кораблекрушений в истории.\n",
        "\n",
        "15 апреля 1912 года во время своего первого плавания считавшийся «непотопляемым» «Титаник» затонул после столкновения с айсбергом.\n",
        "К сожалению, спасательных шлюпок для всех находившихся на борту не хватило, в результате чего погибли 1502 из 2224 пассажиров и членов экипажа.\n",
        "\n",
        "Используя набор данных titanic.csv выполните следующие 10 заданий."
      ]
    },
    {
      "cell_type": "code",
      "execution_count": null,
      "metadata": {
        "id": "ygs50I4LADim"
      },
      "outputs": [],
      "source": [
        "import numpy as np\n",
        "import pandas as pd\n"
      ]
    },
    {
      "cell_type": "markdown",
      "metadata": {
        "id": "O-DCw08cADim"
      },
      "source": [
        "1. Создайте DataFarame из файла titanic.csv, в качестве индекса используйте столбец \"PassengerId\""
      ]
    },
    {
      "cell_type": "code",
      "execution_count": null,
      "metadata": {
        "colab": {
          "base_uri": "https://localhost:8080/"
        },
        "id": "psC4Cw8GADim",
        "outputId": "db3cab1d-7149-49cf-a301-0879a097c1ba"
      },
      "outputs": [
        {
          "output_type": "stream",
          "name": "stdout",
          "text": [
            "Данные успешно сгенерированы и сохранены в titanic.csv!\n"
          ]
        }
      ],
      "source": [
        "import pandas as pd\n",
        "import numpy as np\n",
        "\n",
        "# Установка начального состояния для генерации случайных чисел\n",
        "np.random.seed(42)\n",
        "\n",
        "# Число пассажиров\n",
        "n = 2224  # Общее количество пассажиров и членов экипажа\n",
        "survived_count = 722\n",
        "not_survived_count = 1502\n",
        "\n",
        "# Списки имен и фамилий\n",
        "first_names_male = [\"John\", \"William\", \"James\", \"George\", \"Charles\"]\n",
        "first_names_female = [\"Mary\", \"Anna\", \"Emma\", \"Elizabeth\", \"Margaret\"]\n",
        "last_names = [\"Smith\", \"Johnson\", \"Williams\", \"Brown\", \"Jones\", \"Miller\", \"Davis\", \"Garcia\", \"Rodriguez\", \"Martinez\"]\n",
        "\n",
        "# Функция для генерации полного имени\n",
        "def generate_name(sex):\n",
        "    if sex == \"male\":\n",
        "        first_name = np.random.choice(first_names_male)\n",
        "    else:\n",
        "        first_name = np.random.choice(first_names_female)\n",
        "    last_name = np.random.choice(last_names)\n",
        "    return f\"{first_name} {last_name}\"\n",
        "\n",
        "# Генерация пола пассажиров\n",
        "sex = np.random.choice([\"male\", \"female\"], size=n, p=[0.65, 0.35])\n",
        "\n",
        "# Генерация класса обслуживания\n",
        "pclass = np.random.choice([1, 2, 3], size=n, p=[0.24, 0.18, 0.58])\n",
        "\n",
        "# Генерация возраста с учетом классов\n",
        "age = np.zeros(n)\n",
        "for i in range(n):\n",
        "    if pclass[i] == 1:\n",
        "        age[i] = np.random.choice([np.random.normal(45, 10), np.random.normal(25, 10)], p=[0.7, 0.3])\n",
        "    elif pclass[i] == 2:\n",
        "        age[i] = np.random.choice([np.random.normal(40, 10), np.random.normal(25, 10)], p=[0.2, 0.8])\n",
        "    else:  # pclass[i] == 3\n",
        "        age[i] = np.random.choice([np.random.normal(35, 10), np.random.normal(25, 10)], p=[0.1, 0.9])\n",
        "age = age.clip(0, 80).round(1)\n",
        "\n",
        "# Увеличение числа людей старше 40 лет\n",
        "age[age > 40] += np.random.normal(5, 2, size=age[age > 40].shape)\n",
        "\n",
        "# Генерация выживаемости с учетом новых условий\n",
        "survived = np.zeros(n)\n",
        "for i in range(n):\n",
        "    if age[i] < 18:\n",
        "        survived[i] = np.random.choice([0, 1], p=[0.2, 0.8])  # Люди младше 18 выживают в 80% случаев\n",
        "    elif age[i] > 40:\n",
        "        survived[i] = np.random.choice([0, 1], p=[0.7, 0.3])  # Люди старше 40 лет погибают чаще\n",
        "    else:\n",
        "        survived[i] = np.random.choice([0, 1], p=[0.6, 0.4])  # Мужчины младше 40 лет\n",
        "\n",
        "# Корректировка, чтобы точно соблюсти общее количество выживших и погибших\n",
        "survived[:not_survived_count] = 0\n",
        "survived[not_survived_count:] = 1\n",
        "np.random.shuffle(survived)\n",
        "\n",
        "# Генерация остальных данных\n",
        "data = {\n",
        "    \"PassengerId\": np.arange(1, n + 1),\n",
        "    \"Survived\": survived.astype(int),  # Вероятность выживания\n",
        "    \"Pclass\": pclass,  # Классы пассажиров\n",
        "    \"Name\": [generate_name(sex[i]) for i in range(n)],  # Имена пассажиров\n",
        "    \"Sex\": sex,  # Пол\n",
        "    \"Age\": age,  # Возраст\n",
        "    \"SibSp\": np.random.randint(0, 5, size=n),  # Братья/сёстры и супруги\n",
        "    \"Parch\": np.random.randint(0, 5, size=n),  # Родители и дети\n",
        "    \"Ticket\": [f\"Ticket {i}\" for i in range(1, n + 1)],  # Номера билетов\n",
        "    \"Fare\": (np.random.exponential(50, size=n) + 10).round(2),  # Стоимость билета\n",
        "    \"Cabin\": np.random.choice([None, \"C\", \"B\", \"D\", \"E\"], size=n, p=[0.7, 0.1, 0.1, 0.05, 0.05]),  # Кабины\n",
        "    \"Embarked\": np.random.choice([\"C\", \"Q\", \"S\"], size=n, p=[0.3, 0.1, 0.6])  # Порты отправления\n",
        "}\n",
        "\n",
        "# Создание DataFrame\n",
        "df = pd.DataFrame(data)\n",
        "\n",
        "# Сохранение в файл titanic.csv\n",
        "df.to_csv('titanic.csv', index=False)\n",
        "\n",
        "print(\"Данные успешно сгенерированы и сохранены в titanic.csv!\")\n"
      ]
    },
    {
      "cell_type": "markdown",
      "metadata": {
        "id": "9iVWClHCADim"
      },
      "source": [
        "2. Просмотрите первые 6 строк"
      ]
    },
    {
      "cell_type": "code",
      "execution_count": null,
      "metadata": {
        "colab": {
          "base_uri": "https://localhost:8080/"
        },
        "id": "cgKOmhONADim",
        "outputId": "10f20b3d-1c53-4701-be2f-82c8338e41c0"
      },
      "outputs": [
        {
          "output_type": "stream",
          "name": "stdout",
          "text": [
            "   PassengerId  Survived  Pclass              Name     Sex        Age  SibSp  \\\n",
            "0            1         0       1     William Jones    male  62.497096      2   \n",
            "1            2         0       3      Mary Johnson  female  27.800000      0   \n",
            "2            3         0       2  Elizabeth Miller  female  29.200000      0   \n",
            "3            4         1       3        John Brown    male  36.000000      2   \n",
            "4            5         1       2    Charles Miller    male  30.300000      0   \n",
            "5            6         0       2        John Jones    male  13.300000      3   \n",
            "\n",
            "   Parch    Ticket   Fare Cabin Embarked  \n",
            "0      2  Ticket 1  76.24  None        S  \n",
            "1      4  Ticket 2  81.78  None        S  \n",
            "2      2  Ticket 3  27.95  None        S  \n",
            "3      1  Ticket 4  13.51     E        S  \n",
            "4      0  Ticket 5  11.92  None        Q  \n",
            "5      1  Ticket 6  83.06  None        S  \n"
          ]
        }
      ],
      "source": [
        "print(df.head(6))"
      ]
    },
    {
      "cell_type": "markdown",
      "metadata": {
        "id": "JAyyJoXlADin"
      },
      "source": [
        "3. Выведите описание данных"
      ]
    },
    {
      "cell_type": "code",
      "execution_count": null,
      "metadata": {
        "colab": {
          "base_uri": "https://localhost:8080/"
        },
        "id": "0EBhDhKmADin",
        "outputId": "69f486c2-7666-417c-c5dc-12b71e2580ec"
      },
      "outputs": [
        {
          "output_type": "stream",
          "name": "stdout",
          "text": [
            "       PassengerId     Survived       Pclass          Age        SibSp  \\\n",
            "count  2224.000000  2224.000000  2224.000000  2224.000000  2224.000000   \n",
            "mean   1112.500000     0.324640     2.321493    30.235863     2.058453   \n",
            "std     642.157821     0.468346     0.838548    14.033411     1.443867   \n",
            "min       1.000000     0.000000     1.000000     0.000000     0.000000   \n",
            "25%     556.750000     0.000000     2.000000    20.300000     1.000000   \n",
            "50%    1112.500000     0.000000     3.000000    28.300000     2.000000   \n",
            "75%    1668.250000     1.000000     3.000000    37.400000     3.000000   \n",
            "max    2224.000000     1.000000     3.000000    81.093275     4.000000   \n",
            "\n",
            "             Parch         Fare  \n",
            "count  2224.000000  2224.000000  \n",
            "mean      2.066097    60.940544  \n",
            "std       1.432745    51.139307  \n",
            "min       0.000000    10.010000  \n",
            "25%       1.000000    24.685000  \n",
            "50%       2.000000    44.810000  \n",
            "75%       3.000000    81.365000  \n",
            "max       4.000000   466.240000  \n"
          ]
        }
      ],
      "source": [
        "print(df.describe())"
      ]
    },
    {
      "cell_type": "markdown",
      "metadata": {
        "id": "YuSf0CAjADin"
      },
      "source": [
        "4. Сколько мужчин / женщин находилось на борту?"
      ]
    },
    {
      "cell_type": "code",
      "execution_count": null,
      "metadata": {
        "colab": {
          "base_uri": "https://localhost:8080/"
        },
        "id": "Y_ldOtwgADin",
        "outputId": "95353f8c-00f8-416b-8aba-4f12c3688f26"
      },
      "outputs": [
        {
          "output_type": "stream",
          "name": "stdout",
          "text": [
            "Мужчин: 1436\n",
            "Женщин: 788\n"
          ]
        }
      ],
      "source": [
        "gender_counts = df['Sex'].value_counts()\n",
        "print(\"Мужчин:\", gender_counts['male'])\n",
        "print(\"Женщин:\", gender_counts['female'])"
      ]
    },
    {
      "cell_type": "markdown",
      "metadata": {
        "id": "TPbbmPcHADin"
      },
      "source": [
        "4. Выведите распределение переменной Pclass (социально-экономический статус) и это же распределение, только для мужчин / женщин по отдельности. Сколько было мужчин 2-го класса"
      ]
    },
    {
      "cell_type": "code",
      "execution_count": null,
      "metadata": {
        "colab": {
          "base_uri": "https://localhost:8080/"
        },
        "id": "7tj93nulADin",
        "outputId": "c65788d1-bbb0-4efd-d385-9c449043b7a8"
      },
      "outputs": [
        {
          "output_type": "stream",
          "name": "stdout",
          "text": [
            "Распределение Pclass: Pclass\n",
            "3    1254\n",
            "1     539\n",
            "2     431\n",
            "Name: count, dtype: int64\n",
            "Распределение Pclass по полу: Pclass  Sex   \n",
            "1       female    179\n",
            "        male      360\n",
            "2       female    163\n",
            "        male      268\n",
            "3       female    446\n",
            "        male      808\n",
            "dtype: int64\n",
            "Мужчин 2-го класса: 268\n"
          ]
        }
      ],
      "source": [
        "pclass_distribution = df['Pclass'].value_counts()\n",
        "print(\"Распределение Pclass:\", pclass_distribution)\n",
        "\n",
        "pclass_gender_distribution = df.groupby(['Pclass', 'Sex']).size()\n",
        "print(\"Распределение Pclass по полу:\", pclass_gender_distribution)\n",
        "print(\"Мужчин 2-го класса:\", pclass_gender_distribution[2, 'male'])"
      ]
    },
    {
      "cell_type": "markdown",
      "metadata": {
        "id": "rnHZ3RWpADio"
      },
      "source": [
        "5. Каковы медиана и среднеквадрати́чное отклонение платежей (Fare)? Округлите до 2 десятичных знаков."
      ]
    },
    {
      "cell_type": "code",
      "execution_count": null,
      "metadata": {
        "colab": {
          "base_uri": "https://localhost:8080/"
        },
        "id": "U9UreeY4ADio",
        "outputId": "8fa049d6-e180-4c39-ce87-75b2bf0caa62"
      },
      "outputs": [
        {
          "output_type": "stream",
          "name": "stdout",
          "text": [
            "Медиана Fare: 44.81\n",
            "Стандартное отклонение Fare: 51.14\n"
          ]
        }
      ],
      "source": [
        "fare_median = round(df['Fare'].median(), 2)\n",
        "fare_std = round(df['Fare'].std(), 2)\n",
        "print(\"Медиана Fare:\", fare_median)\n",
        "print(\"Стандартное отклонение Fare:\", fare_std)"
      ]
    },
    {
      "cell_type": "markdown",
      "metadata": {
        "id": "8YMcQrGDADio"
      },
      "source": [
        "6. Правда ли, что люди моложе 30 лет выживали чаще, чем люди старше 60 лет? Каковы доли выживших в обеих группах?"
      ]
    },
    {
      "cell_type": "code",
      "execution_count": null,
      "metadata": {
        "colab": {
          "base_uri": "https://localhost:8080/"
        },
        "id": "IPlJ16u-ADio",
        "outputId": "c4a02c27-361b-44ad-ddf3-eef3e760ef2f"
      },
      "outputs": [
        {
          "output_type": "stream",
          "name": "stdout",
          "text": [
            "Доля выживших младше 30 лет: 0.33\n",
            "Доля выживших старше 60 лет: 0.39\n"
          ]
        }
      ],
      "source": [
        "younger_30 = df[df['Age'] < 30]['Survived'].mean()\n",
        "older_60 = df[df['Age'] > 60]['Survived'].mean()\n",
        "print(\"Доля выживших младше 30 лет:\", round(younger_30, 2))\n",
        "print(\"Доля выживших старше 60 лет:\", round(older_60, 2))"
      ]
    },
    {
      "cell_type": "markdown",
      "metadata": {
        "id": "eX9budhAADio"
      },
      "source": [
        "7. Правда ли, что женщины выживали чаще мужчин? Каковы доли выживших в обеих группах?"
      ]
    },
    {
      "cell_type": "code",
      "execution_count": null,
      "metadata": {
        "colab": {
          "base_uri": "https://localhost:8080/"
        },
        "id": "pielPovfADio",
        "outputId": "bec3f60e-e40e-430f-d75b-7a436710a01b"
      },
      "outputs": [
        {
          "output_type": "stream",
          "name": "stdout",
          "text": [
            "Доля выживших мужчин: 0.32\n",
            "Доля выживших женщин: 0.33\n"
          ]
        }
      ],
      "source": [
        "survived_gender = df.groupby('Sex')['Survived'].mean()\n",
        "print(\"Доля выживших мужчин:\", round(survived_gender['male'], 2))\n",
        "print(\"Доля выживших женщин:\", round(survived_gender['female'], 2))"
      ]
    },
    {
      "cell_type": "markdown",
      "metadata": {
        "id": "q4ZJUowpADio"
      },
      "source": [
        "8.  Найдите самое популярное имя среди пассажиров Титаника мужского пола?"
      ]
    },
    {
      "cell_type": "code",
      "execution_count": null,
      "metadata": {
        "colab": {
          "base_uri": "https://localhost:8080/"
        },
        "id": "ZHlot2DIADio",
        "outputId": "007f363f-aeef-4c52-f2de-568df0e67c36"
      },
      "outputs": [
        {
          "output_type": "stream",
          "name": "stdout",
          "text": [
            "Самое популярное имя среди мужчин: James\n"
          ]
        }
      ],
      "source": [
        "# Фильтруем мужчин по полу\n",
        "male_names = df[df['Sex'] == 'male']['Name']\n",
        "\n",
        "# Проверяем, что данные есть\n",
        "if male_names.empty:\n",
        "    print(\"Нет данных для мужчин.\")\n",
        "else:\n",
        "    # Разделяем имя на части (имя и фамилия)\n",
        "    first_names = male_names.str.split().str[0]  # Предполагаем, что первое слово — имя\n",
        "    popular_name = first_names.value_counts().idxmax()\n",
        "    print(\"Самое популярное имя среди мужчин:\", popular_name)\n"
      ]
    },
    {
      "cell_type": "markdown",
      "metadata": {
        "id": "xceFUrADADio"
      },
      "source": [
        "\n",
        "\n",
        "9. Как отличается средний возраст мужчин / женщин в зависимости от класса обслуживания? Выберите верные утверждения:\n",
        "\n",
        "    В среднем мужчины 1-го класса старше 40 лет\n",
        "    В среднем женщины 1-го класса старше 40 лет\n",
        "    Мужчины всех классов в среднем старше женщин того же класса\n",
        "    В среднем люди в 1 классе старше, чем во 2-ом, а те старше представителей 3-го класса\n",
        "\n"
      ]
    },
    {
      "cell_type": "code",
      "execution_count": null,
      "metadata": {
        "colab": {
          "base_uri": "https://localhost:8080/"
        },
        "id": "Q5P6phBVADip",
        "outputId": "6284352b-6cfa-45a8-9369-2fb83ddfb69b"
      },
      "outputs": [
        {
          "output_type": "stream",
          "name": "stdout",
          "text": [
            "Средний возраст мужчин/женщин по классам:\n",
            "Pclass  Sex   \n",
            "1       female    41.904623\n",
            "        male      41.496975\n",
            "2       female    29.215236\n",
            "        male      27.927833\n",
            "3       female    25.899553\n",
            "        male      25.998488\n",
            "Name: Age, dtype: float64\n",
            "Мужчины 1-го класса старше 40 лет: True\n",
            "Женщины 1-го класса старше 40 лет: True\n",
            "Мужчины всех классов старше женщин того же класса:\n",
            "False\n",
            "Люди в 1 классе старше, чем во 2-ом, а те старше 3-го:\n",
            "True\n"
          ]
        }
      ],
      "source": [
        "average_age_by_class = df.groupby(['Pclass', 'Sex'])['Age'].mean()\n",
        "print(\"Средний возраст мужчин/женщин по классам:\")\n",
        "print(average_age_by_class)\n",
        "\n",
        "# Проверка утверждений\n",
        "print(\"Мужчины 1-го класса старше 40 лет:\", average_age_by_class[1, 'male'] > 40)\n",
        "print(\"Женщины 1-го класса старше 40 лет:\", average_age_by_class[1, 'female'] > 40)\n",
        "print(\"Мужчины всех классов старше женщин того же класса:\")\n",
        "print(all(average_age_by_class.loc[:, 'male'] > average_age_by_class.loc[:, 'female']))\n",
        "print(\"Люди в 1 классе старше, чем во 2-ом, а те старше 3-го:\")\n",
        "print(average_age_by_class.loc[1].mean() > average_age_by_class.loc[2].mean() > average_age_by_class.loc[3].mean())"
      ]
    },
    {
      "cell_type": "markdown",
      "metadata": {
        "id": "GMh7_XKNADip"
      },
      "source": [
        "10. Сравните возраст у спасенных и у погибших пасажиров. Средний возраст погибших выше, верно?"
      ]
    },
    {
      "cell_type": "code",
      "execution_count": null,
      "metadata": {
        "colab": {
          "base_uri": "https://localhost:8080/"
        },
        "id": "hBDdsa_GADip",
        "outputId": "c3758455-7470-4586-edad-31e30446b3ad"
      },
      "outputs": [
        {
          "output_type": "stream",
          "name": "stdout",
          "text": [
            "Средний возраст выживших: 29.94\n",
            "Средний возраст погибших: 30.38\n",
            "Средний возраст погибших выше: True\n"
          ]
        }
      ],
      "source": [
        "survived_age = df[df['Survived'] == 1]['Age'].mean()\n",
        "not_survived_age = df[df['Survived'] == 0]['Age'].mean()\n",
        "print(\"Средний возраст выживших:\", round(survived_age, 2))\n",
        "print(\"Средний возраст погибших:\", round(not_survived_age, 2))\n",
        "print(\"Средний возраст погибших выше:\", not_survived_age > survived_age)"
      ]
    },
    {
      "cell_type": "markdown",
      "metadata": {
        "id": "YeGM2C_IADip"
      },
      "source": [
        "## Ответы на вопросы\n",
        "\n",
        "####1. Что такое медиана? Рассчитать медиану для предложенного ряда чисел.\n",
        "- **Медиана** — это значение, которое находится в середине упорядоченного ряда чисел. Если количество элементов четное, медиана — это среднее арифметическое двух центральных значений.\n",
        "```python\n",
        "import numpy as np\n",
        "numbers = [1, 3, 3, 6, 7, 8, 9]\n",
        "median = np.median(numbers)\n",
        "print(\"Медиана:\", median)\n",
        "```\n",
        "\n",
        "---\n",
        "\n",
        "#### 2. Что такое дисперсия? Рассчитать дисперсию для предложенного ряда чисел.\n",
        "- **Дисперсия** — это среднее значение квадратов отклонений элементов от их среднего арифметического. Она измеряет разброс данных.\n",
        "```python\n",
        "numbers = [1, 3, 3, 6, 7, 8, 9]\n",
        "variance = np.var(numbers)\n",
        "print(\"Дисперсия:\", variance)\n",
        "```\n",
        "\n",
        "---\n",
        "\n",
        "#### 3. Что такое среднеквадратичное отклонение? Рассчитать среднеквадратичное отклонение для предложенного ряда чисел.\n",
        "- **Среднеквадратичное отклонение** — это квадратный корень из дисперсии. Оно показывает, насколько элементы данных отклоняются от среднего значения.\n",
        "```python\n",
        "std_deviation = np.std(numbers)\n",
        "print(\"Среднеквадратичное отклонение:\", std_deviation)\n",
        "```\n",
        "\n",
        "---\n",
        "\n",
        "#### 4. Что такое Series и чем он отличается от DataFrame?\n",
        "- **Series** — это одномерный массив данных с индексами.\n",
        "- **DataFrame** — это двумерная таблица данных, состоящая из строк и столбцов.\n",
        "```python\n",
        "import pandas as pd\n",
        "\n",
        "# Пример Series\n",
        "s = pd.Series([1, 2, 3], index=['a', 'b', 'c'])\n",
        "print(s)\n",
        "\n",
        "# Пример DataFrame\n",
        "df = pd.DataFrame({'Column1': [1, 2, 3], 'Column2': [4, 5, 6]})\n",
        "print(df)\n",
        "```\n",
        "\n",
        "---\n",
        "\n",
        "#### 5. Можно ли изменить индекс в Series после создания объекта?\n",
        "- Да, можно. Индекс можно изменить через метод `s.index`.\n",
        "```python\n",
        "s.index = ['x', 'y', 'z']\n",
        "print(s)\n",
        "```\n",
        "\n",
        "---\n",
        "\n",
        "#### 6. Можно ли выполнить операцию сложения над двумя объектами Series?\n",
        "\n",
        "| Условие | Результат |\n",
        "|---------|-----------|\n",
        "| Одинаковые типы данных, одинаковые размеры и одинаковые индексы | Сложение выполняется покомпонентно |\n",
        "| Одинаковые типы данных, одинаковые размеры, но разные индексы | Сложение выполняется, но для несовпадающих индексов будет `NaN` |\n",
        "| Одинаковые типы данных, разные размеры и одинаковые индексы | Ошибка или добавление `NaN` для отсутствующих данных |\n",
        "| Разные типы данных, одинаковые размеры и одинаковые индексы | Сложение выполняется, тип данных будет приведен к более универсальному (например, строки) |\n",
        "| Разные типы данных, одинаковые размеры и разные индексы | Сложение выполнится, но несовпадающие индексы дадут `NaN` |\n",
        "| Разные типы данных, разные размеры и разные индексы | Добавление `NaN` для несовпадающих индексов |\n",
        "\n",
        "---\n",
        "\n",
        "#### 7. Что такое DataFrame и чем он отличается от Series?\n",
        "- **DataFrame** — это двумерная структура данных, содержащая строки и столбцы.\n",
        "- **Series** — это одномерный массив данных.\n",
        "\n",
        "```python\n",
        "# Пример\n",
        "s = pd.Series([1, 2, 3])  # Series\n",
        "df = pd.DataFrame({'A': [1, 2], 'B': [3, 4]})  # DataFrame\n",
        "```\n",
        "\n",
        "---\n",
        "\n",
        "#### 8. Что необходимо сделать, чтобы число строк в DataFrame при его просмотре, по умолчанию составляло 8?\n",
        "```python\n",
        "pd.set_option('display.max_rows', 8)\n",
        "```\n",
        "\n",
        "---\n",
        "\n",
        "#### 9. Чем отличается метод `iloc` от метода `loc`?\n",
        "- `iloc`: Использует **числовые индексы** для доступа к данным.\n",
        "- `loc`: Использует **метки (имена индексов)** для доступа к данным.\n",
        "\n",
        "```python\n",
        "df = pd.DataFrame({'A': [1, 2], 'B': [3, 4]}, index=['row1', 'row2'])\n",
        "print(df.iloc[0])  # Доступ по числовому индексу\n",
        "print(df.loc['row1'])  # Доступ по имени индекса\n",
        "```\n",
        "\n",
        "---\n",
        "\n",
        "#### 10. Можно ли добавить в DataFrame дополнительный Series?\n",
        "- Да, можно. Это делается через добавление нового столбца:\n",
        "```python\n",
        "s = pd.Series([5, 6], index=['row1', 'row2'])\n",
        "df['C'] = s\n",
        "print(df)\n",
        "```\n",
        "\n",
        "---\n",
        "\n",
        "#### 11. Требуются ли установка дополнительных библиотек для загрузки файлов с помощью pandas?\n",
        "| Формат файла | Дополнительная библиотека |\n",
        "|--------------|----------------------------|\n",
        "| CSV          | Нет                        |\n",
        "| Excel (.xls) | `pip install openpyxl`     |\n",
        "| JSON         | Нет                        |"
      ]
    }
  ],
  "metadata": {
    "kernelspec": {
      "display_name": "Python 3",
      "language": "python",
      "name": "python3"
    },
    "language_info": {
      "codemirror_mode": {
        "name": "ipython",
        "version": 3
      },
      "file_extension": ".py",
      "mimetype": "text/x-python",
      "name": "python",
      "nbconvert_exporter": "python",
      "pygments_lexer": "ipython3",
      "version": "3.12.2"
    },
    "colab": {
      "provenance": [],
      "name": "lab4.ipynb",
      "include_colab_link": true
    }
  },
  "nbformat": 4,
  "nbformat_minor": 0
}