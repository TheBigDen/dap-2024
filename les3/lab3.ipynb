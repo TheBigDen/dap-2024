{
  "cells": [
    {
      "cell_type": "markdown",
      "metadata": {
        "id": "view-in-github",
        "colab_type": "text"
      },
      "source": [
        "<a href=\"https://colab.research.google.com/github/TheBigDen/dap-2024/blob/main/les3/lab3.ipynb\" target=\"_parent\"><img src=\"https://colab.research.google.com/assets/colab-badge.svg\" alt=\"Open In Colab\"/></a>"
      ]
    },
    {
      "cell_type": "markdown",
      "metadata": {
        "id": "qQvfD-M40xIt"
      },
      "source": [
        "# Лабораторная работа №3. NumPy"
      ]
    },
    {
      "cell_type": "markdown",
      "metadata": {
        "id": "4yjWBIsblATX"
      },
      "source": [
        "## Задание"
      ]
    },
    {
      "cell_type": "markdown",
      "metadata": {
        "id": "Q8FFEA2R08uS"
      },
      "source": [
        "Выполните следующие задания:\n",
        "\n",
        "1. Открыл в файл в Google Colab (используя собственный форк репозитория).\n",
        "2. Решил задачи.\n",
        "3. Сохранил результат в репозиторий github в директорию ./les02\n",
        "4. Создал pull request в репозиторий https://github.com/chebotarevsa/dap-2024\n",
        "5. Сдал работу в системе \"Пегас\", в отчете указал ссылку на pull request"
      ]
    },
    {
      "cell_type": "code",
      "execution_count": null,
      "metadata": {
        "colab": {
          "base_uri": "https://localhost:8080/",
          "height": 35
        },
        "id": "3ftbuMN45IlN",
        "outputId": "cb47642a-36d8-4129-a344-10d123ce4c21"
      },
      "outputs": [
        {
          "output_type": "execute_result",
          "data": {
            "text/plain": [
              "'1.26.4'"
            ],
            "application/vnd.google.colaboratory.intrinsic+json": {
              "type": "string"
            }
          },
          "metadata": {},
          "execution_count": 1
        }
      ],
      "source": [
        "import numpy as np\n",
        "np.version.version"
      ]
    },
    {
      "cell_type": "markdown",
      "metadata": {
        "id": "6iPL4gTu2ECp"
      },
      "source": [
        "1. Создать массив 10x10 со случайными значениями, найти минимум и максимум (низкая)"
      ]
    },
    {
      "cell_type": "code",
      "execution_count": null,
      "metadata": {
        "id": "v-AutHvo2T-D",
        "colab": {
          "base_uri": "https://localhost:8080/"
        },
        "outputId": "19d334a8-45f4-4873-a534-97dedd288a7b"
      },
      "outputs": [
        {
          "output_type": "stream",
          "name": "stdout",
          "text": [
            "Минимум: 0.013007550876221297 Максимум: 0.9570179768451541\n"
          ]
        }
      ],
      "source": [
        "z = np.random.random((10, 10))\n",
        "z_min, z_max = z.min(), z.max()\n",
        "print(\"Минимум:\", z_min, \"Максимум:\", z_max)"
      ]
    },
    {
      "cell_type": "markdown",
      "metadata": {
        "id": "cwxKoGik2Xfd"
      },
      "source": [
        "2. Создать 8x8 матрицу и заполнить её единицами и нулями в шахматном порядке"
      ]
    },
    {
      "cell_type": "code",
      "execution_count": null,
      "metadata": {
        "id": "zACAjKWC2lBy",
        "colab": {
          "base_uri": "https://localhost:8080/"
        },
        "outputId": "094bcd0c-b1f0-4188-d294-41695bb7f254"
      },
      "outputs": [
        {
          "output_type": "stream",
          "name": "stdout",
          "text": [
            "[[0 1 0 1 0 1 0 1]\n",
            " [1 0 1 0 1 0 1 0]\n",
            " [0 1 0 1 0 1 0 1]\n",
            " [1 0 1 0 1 0 1 0]\n",
            " [0 1 0 1 0 1 0 1]\n",
            " [1 0 1 0 1 0 1 0]\n",
            " [0 1 0 1 0 1 0 1]\n",
            " [1 0 1 0 1 0 1 0]]\n"
          ]
        }
      ],
      "source": [
        "z = np.zeros((8, 8), dtype=int)\n",
        "z[1::2, ::2] = 1\n",
        "z[::2, 1::2] = 1\n",
        "print(z)"
      ]
    },
    {
      "cell_type": "markdown",
      "metadata": {
        "id": "YvNFm7Io2tSA"
      },
      "source": [
        "3. Дан массив из 11 элементов, поменять знак у элементов, значения которых между 3 и 8"
      ]
    },
    {
      "cell_type": "code",
      "execution_count": null,
      "metadata": {
        "id": "cczoe3OY27fA",
        "colab": {
          "base_uri": "https://localhost:8080/"
        },
        "outputId": "6e741e68-e505-42fc-da1e-92d7f10621ce"
      },
      "outputs": [
        {
          "output_type": "stream",
          "name": "stdout",
          "text": [
            "[ 0  1  2  3 -4 -5 -6 -7  8  9 10]\n"
          ]
        }
      ],
      "source": [
        "z = np.arange(11)\n",
        "z[(z > 3) & (z < 8)] *= -1\n",
        "print(z)"
      ]
    },
    {
      "cell_type": "markdown",
      "metadata": {
        "id": "tInYHRPf2-jQ"
      },
      "source": [
        "4. Найти среднее заначение строки матрицы и вычесть его из каждого елемента строки"
      ]
    },
    {
      "cell_type": "code",
      "execution_count": null,
      "metadata": {
        "id": "Zbv_WG9w3km1",
        "colab": {
          "base_uri": "https://localhost:8080/"
        },
        "outputId": "075129f1-4743-45ab-e1b2-e81edd7f7e90"
      },
      "outputs": [
        {
          "output_type": "stream",
          "name": "stdout",
          "text": [
            "[[-7.38183200e-02  1.04760533e-01  2.99799620e-01  3.60391795e-01\n",
            "  -2.95063028e-01  3.59592828e-02 -3.20802474e-02 -3.39141326e-01\n",
            "  -3.99162994e-01  3.38354684e-01]\n",
            " [-3.59764676e-01  2.06627257e-01  1.47448094e-01  5.10426869e-01\n",
            "   1.49512027e-01 -2.86862190e-01 -3.92600669e-01 -2.83169507e-01\n",
            "  -1.60759116e-02  3.24458707e-01]\n",
            " [-1.08115806e-02  8.51922268e-02  2.78642640e-01 -2.95564501e-02\n",
            "   3.47794276e-04 -1.91847979e-01 -6.23318151e-01  3.33961843e-01\n",
            "   2.15812480e-01 -5.84228239e-02]\n",
            " [-1.65835007e-01  3.52295543e-01 -1.41534836e-01  2.99188216e-01\n",
            "   4.02106936e-01 -5.47824092e-01  3.99297662e-01  2.74570101e-01\n",
            "  -3.97759948e-01 -4.74504574e-01]\n",
            " [-1.38325938e-02 -4.14970540e-01  2.51609870e-01 -1.40540145e-01\n",
            "   5.75810388e-02 -1.16348126e-01  3.02346413e-01 -1.58777024e-01\n",
            "   3.08400283e-01 -7.54691758e-02]]\n"
          ]
        }
      ],
      "source": [
        "z = np.random.rand(5, 10)\n",
        "z -= z.mean(axis=1, keepdims=True)\n",
        "print(z)"
      ]
    },
    {
      "cell_type": "markdown",
      "metadata": {
        "id": "OStor4mW3lpJ"
      },
      "source": [
        "5. Поменяйте 1 и 2 строки матрицы"
      ]
    },
    {
      "cell_type": "code",
      "execution_count": null,
      "metadata": {
        "id": "5vfeHqyF3qKd",
        "colab": {
          "base_uri": "https://localhost:8080/"
        },
        "outputId": "23353e78-73e7-4b94-c118-5d2850d0b4cf"
      },
      "outputs": [
        {
          "output_type": "stream",
          "name": "stdout",
          "text": [
            "[[ 5  6  7  8  9]\n",
            " [ 0  1  2  3  4]\n",
            " [10 11 12 13 14]\n",
            " [15 16 17 18 19]\n",
            " [20 21 22 23 24]]\n"
          ]
        }
      ],
      "source": [
        "z = np.arange(25).reshape(5, 5)\n",
        "z[[0, 1]] = z[[1, 0]]\n",
        "print(z)"
      ]
    },
    {
      "cell_type": "markdown",
      "metadata": {
        "id": "IPQ9xIIk3qml"
      },
      "source": [
        "6. Дан массив 10x2 подеставлющий собой точки в декартовой системе координат, преобразовать в полярную"
      ]
    },
    {
      "cell_type": "code",
      "execution_count": null,
      "metadata": {
        "id": "zGHBaX8b30Uv",
        "colab": {
          "base_uri": "https://localhost:8080/"
        },
        "outputId": "babf1830-e8ab-471c-a03e-c5580b7232da"
      },
      "outputs": [
        {
          "output_type": "stream",
          "name": "stdout",
          "text": [
            "Радиусы: [1.14340839 1.12049994 0.61739933 0.68857522 0.83881645 0.85046531\n",
            " 0.52203732 0.62615264 0.85552652 0.87309158]\n",
            "Углы: [0.69317313 0.80837436 0.60671884 0.35583782 0.07312853 0.90068012\n",
            " 1.49340015 0.20554029 1.06558906 0.40476889]\n"
          ]
        }
      ],
      "source": [
        "z = np.random.random((10, 2))\n",
        "x, y = z[:, 0], z[:, 1]\n",
        "r = np.sqrt(x**2 + y**2)\n",
        "theta = np.arctan2(y, x)\n",
        "print(\"Радиусы:\", r)\n",
        "print(\"Углы:\", theta)"
      ]
    },
    {
      "cell_type": "markdown",
      "metadata": {
        "id": "10gbuTgE4AOH"
      },
      "source": [
        "7. Заменить максимальный элемент массива на ноль"
      ]
    },
    {
      "cell_type": "code",
      "execution_count": null,
      "metadata": {
        "id": "gqwuO2T_5Aqd",
        "colab": {
          "base_uri": "https://localhost:8080/"
        },
        "outputId": "bcd431bf-484c-4d45-9b7f-ad51b486f7e8"
      },
      "outputs": [
        {
          "output_type": "stream",
          "name": "stdout",
          "text": [
            "[0.84078203 0.78670254 0.47328425 0.35490326 0.49346554 0.64314668\n",
            " 0.64001284 0.15876959 0.         0.31114475]\n"
          ]
        }
      ],
      "source": [
        "z = np.random.random(10)\n",
        "z[z.argmax()] = 0\n",
        "print(z)"
      ]
    },
    {
      "cell_type": "markdown",
      "metadata": {
        "id": "88m_eWXM6nZY"
      },
      "source": [
        "8. Дан массив, добавить 1 к каждому элементу с индексом, заданным в другом массиве. Добавление производиться только 1 раз"
      ]
    },
    {
      "cell_type": "code",
      "execution_count": null,
      "metadata": {
        "id": "-5yj9k126pfh",
        "colab": {
          "base_uri": "https://localhost:8080/"
        },
        "outputId": "98f1e7ed-ec76-4e27-f453-b0d7b5a16765"
      },
      "outputs": [
        {
          "output_type": "stream",
          "name": "stdout",
          "text": [
            "[3. 3. 1. 2. 2. 5. 3. 4. 3. 4.]\n"
          ]
        }
      ],
      "source": [
        "z = np.ones(10)\n",
        "i = np.random.randint(0, len(z), 20)\n",
        "np.add.at(z, i, 1)\n",
        "print(z)"
      ]
    },
    {
      "cell_type": "markdown",
      "metadata": {
        "id": "0HByAVK77JCG"
      },
      "source": [
        "9. Дан вектор [1, 2, 3, 4, 5], построить новый вектор с тремя нулями между каждым значением"
      ]
    },
    {
      "cell_type": "code",
      "execution_count": null,
      "metadata": {
        "id": "2AiZt-J47dqq",
        "colab": {
          "base_uri": "https://localhost:8080/"
        },
        "outputId": "919e07ac-d3ac-4531-d1cf-adcf1992612b"
      },
      "outputs": [
        {
          "output_type": "stream",
          "name": "stdout",
          "text": [
            "[1. 0. 0. 0. 2. 0. 0. 0. 3. 0. 0. 0. 4. 0. 0. 0. 5.]\n"
          ]
        }
      ],
      "source": [
        "z = np.array([1, 2, 3, 4, 5])\n",
        "nz = np.zeros(len(z) + (len(z) - 1) * 3)\n",
        "nz[::4] = z\n",
        "print(nz)"
      ]
    },
    {
      "cell_type": "markdown",
      "metadata": {
        "id": "i0uK-dO08AKP"
      },
      "source": [
        "10. Найти ближайшее к заданному значению число в заданном массиве"
      ]
    },
    {
      "cell_type": "code",
      "execution_count": null,
      "metadata": {
        "id": "sE0DlZO_-4Cb",
        "colab": {
          "base_uri": "https://localhost:8080/"
        },
        "outputId": "539a6f82-86d0-443a-bb5c-f37837aed526"
      },
      "outputs": [
        {
          "output_type": "stream",
          "name": "stdout",
          "text": [
            "Массив: [0.89027125 0.88698207 0.52172327 0.64933507 0.79688482 0.00952394\n",
            " 0.27690202 0.01930094 0.65654416 0.52423625]\n",
            "Ближайшее к 0.5 значение: 0.5217232733565018\n"
          ]
        }
      ],
      "source": [
        "z = np.arange(100) # Число\n",
        "v = np.random.uniform(0,100) # Массив\n",
        "z = np.random.random(10)\n",
        "value = 0.5\n",
        "closest = z[np.abs(z - value).argmin()]\n",
        "print(\"Массив:\", z)\n",
        "print(\"Ближайшее к\", value, \"значение:\", closest)"
      ]
    },
    {
      "cell_type": "markdown",
      "metadata": {
        "id": "0zUpsgh8uCfQ"
      },
      "source": [
        "## Вопросы\n",
        "\n",
        "\n"
      ]
    },
    {
      "cell_type": "markdown",
      "metadata": {
        "id": "RQEMkoq5vc3k"
      },
      "source": [
        "# Ответы на вопросы\n",
        "\n",
        "## 1. Какой тип (dtype) будут иметь элементы массива?\n",
        "```python\n",
        "import numpy as np\n",
        "\n",
        "# Типы данных массивов\n",
        "print(np.array([1, 4, 2, 5, 3]).dtype)  # int64 или int32 (зависит от системы)\n",
        "print(np.array([1., 4, 2, 5, 3]).dtype)  # float64\n",
        "print(np.array([1, 4, 2, 5, 3], dtype='float128').dtype)  # float128\n",
        "print(np.array([1., 4, 2, 5, 3], dtype='complex128').dtype)  # complex128\n",
        "print(np.array([1, 4, 2, 5, 3], dtype='float64').dtype)  # float64\n",
        "print(np.array([1, 4, 2, 5, 3], dtype='int64').dtype)  # int64\n",
        "print(np.array([1, 4, 2, 5, 3], dtype='bool').dtype)  # bool\n",
        "print(np.array([1, 4, 2, 5, 3], dtype='str').dtype)  # <U1\n",
        "print(np.array([1, 4, 2, 5, '3']).dtype)  # <U21 (строки)\n",
        "print(np.array([1, -4, 2, 0, 1j]).dtype)  # complex128\n"
      ]
    },
    {
      "cell_type": "markdown",
      "metadata": {
        "id": "SlJfe4Bgvd16"
      },
      "source": [
        "**2**. Что будет выведено в консоль и почему?\n",
        "- Операции с массивами\n",
        "```python\n",
        "print(np.array([1, 4, 2, 5, 3], dtype='str')[1] + '1')  # '41'\n",
        "print(np.array([1, -4, 2, 0, 3], dtype='bool')[3] or np.array([1, -4, 2, 0, 3])[1])  # -4\n",
        "print(np.array([1, -4, 2, 0, 3], dtype='bool')[3] and np.array([1, -4, 2, 0, 3])[1])  # False\n",
        "print(np.array([1, -4, 2, 0, True], dtype='int64')[-1])  # 1\n",
        "print(np.array([1, -4, 2, 0, 1j], dtype='str')[-1])  # '1j'\n",
        "print(np.array([1, 4, 2, 5, '3'])[-1] * 3)  # '333'\n"
      ]
    },
    {
      "cell_type": "markdown",
      "metadata": {
        "id": "X50PESx7xVAc"
      },
      "source": [
        "**3**. Каков результат операции?\n",
        "\n",
        "``` python\n",
        "print(np.ones((3, 5), dtype=float))  # Матрица 3x5 из 1.0\n",
        "print(np.full((3, 5), 3.14))  # Матрица 3x5 из 3.14\n",
        "print(np.linspace(0, 1, 5))  # [0. , 0.25, 0.5 , 0.75, 1. ]\n",
        "print(np.diag((1, 3, 5)))  # Диагональная матрица с диагональю [1, 3, 5]\n",
        "print(np.random.random((3, 3)))  # Матрица 3x3 со случайными значениями\n",
        "print(np.eye(3))  # Единичная матрица 3x3\n",
        "print(np.empty(3))  # Пустой массив из 3 элементов (значения не инициализированы)\n",
        "\n",
        "\n"
      ]
    },
    {
      "cell_type": "markdown",
      "metadata": {
        "id": "D6Bt-8cfAWrA"
      },
      "source": [
        "**4**. Дан двумерный массив X, что будет выведено в консоль?\n",
        "\n",
        "``` python\n",
        "X = np.array([[3, 5, 2, 4],\n",
        "      [7, 6, 8, 8],\n",
        "      [1, 6, 7, 7]])\n",
        "```\n",
        "\n",
        "``` python\n",
        "print(X[0, 0])  # 3\n",
        "print(X[-1, -1])  # 7\n",
        "print(X[0:1, -1])  # [4]\n",
        "print(X[0:2, -1])  # [4, 8]\n",
        "print(X[0:2, 0:2])  # [[3, 5], [7, 6]]\n",
        "print(X[1, 1:3])  # [6, 8]\n",
        "print(X[1, :])  # [7, 6, 8, 8]\n",
        "print(X[:, :])  # Весь массив\n",
        "print(X[::2, ::2])  # [[3, 2], [1, 7]]\n",
        "print(X[::-1, ::-1])  # Обратный массив\n",
        "```"
      ]
    },
    {
      "cell_type": "markdown",
      "metadata": {
        "id": "M4p-kC8OlATb"
      },
      "source": [
        "**5**. Дан двумерный массив grid, в чем различее между операциями?\n",
        "\n",
        "\n",
        "``` python\n",
        "grid = np.arange(16).reshape((4, 4))\n",
        "print(np.split(grid, [2]))  # Разделение по строкам\n",
        "print(np.split(grid, [2], axis=1))  # Разделение по столбцам\n",
        "\n"
      ]
    },
    {
      "cell_type": "markdown",
      "metadata": {
        "id": "18GL_VvAlATb"
      },
      "source": [
        "**6**. В чем различие между операциями?\n",
        "\n",
        "``` python\n",
        "print([1, 2, 3] + [3, 2, 1])  # Конкатенация списков: [1, 2, 3, 3, 2, 1]\n",
        "print(np.array([1, 2, 3]) + np.array([3, 2, 1]))  # Покомпонентное сложение: [4, 4, 4]\n"
      ]
    },
    {
      "cell_type": "markdown",
      "metadata": {
        "id": "gVBvxe4ulATb"
      },
      "source": [
        "**7**. Как в CodeLab измерить время выполнения кода?  \n",
        "```python\n",
        "# Используем магическую команду %%time\n",
        "%%time\n",
        "result = sum(range(1000000))\n"
      ]
    },
    {
      "cell_type": "markdown",
      "metadata": {
        "id": "46Yooi4ClATb"
      },
      "source": [
        "**8**. Дан массив X, каковы результаты операций?\n",
        "\n",
        "```python\n",
        "X = np.array([[3, 5, 2, 4],\n",
        "              [7, 6, 8, 8],\n",
        "              [1, 6, 7, 7]])\n",
        "\n",
        "print(np.sum(X))  # Сумма всех элементов\n",
        "print(np.sum(X, axis=1))  # Сумма по строкам\n",
        "print(np.sum(X, axis=0))  # Сумма по столбцам\n"
      ]
    },
    {
      "cell_type": "markdown",
      "metadata": {
        "id": "3aJdofajlATc"
      },
      "source": [
        "**9**. Дан массив X, что будет выведено в консоль?\n",
        "\n",
        "```python\n",
        "X = np.array([1, 2, 3, 4])\n",
        "\n",
        "print(X > 3)  # [False False False True]\n",
        "print(X < 3)  # [ True  True False False]\n",
        "print(X[X < 3])  # [1 2]\n",
        "print(X[X > 3])  # [4]\n",
        "print(X[X != 3])  # [1 2 4]\n"
      ]
    },
    {
      "cell_type": "markdown",
      "metadata": {
        "id": "6eMLb-BMlATc"
      },
      "source": [
        "**10**.  В чем преимущество массивов NumPy по сравнению с обычными списками.  Чем обусловлено это преимущество?  \n",
        "\n",
        "**Преимущества:**\n",
        "- 1. Быстрее, так как операции выполняются на уровне C (ближе к железу).\n",
        "- 2. Меньше памяти, поскольку тип элементов массива фиксирован.\n",
        "- 3. Мощные инструменты для работы с большими данными (трансформации, вычисления, индексация).\n"
      ]
    }
  ],
  "metadata": {
    "colab": {
      "provenance": [],
      "name": "lab3.ipynb",
      "include_colab_link": true
    },
    "kernelspec": {
      "display_name": "Python 3",
      "name": "python3"
    },
    "language_info": {
      "codemirror_mode": {
        "name": "ipython",
        "version": 3
      },
      "file_extension": ".py",
      "mimetype": "text/x-python",
      "name": "python",
      "nbconvert_exporter": "python",
      "pygments_lexer": "ipython3",
      "version": "3.12.2"
    }
  },
  "nbformat": 4,
  "nbformat_minor": 0
}