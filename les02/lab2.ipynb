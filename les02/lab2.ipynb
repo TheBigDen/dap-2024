{
  "cells": [
    {
      "cell_type": "markdown",
      "metadata": {
        "id": "view-in-github",
        "colab_type": "text"
      },
      "source": [
        "<a href=\"https://colab.research.google.com/github/TheBigDen/dap-2024/blob/main/les02/lab2.ipynb\" target=\"_parent\"><img src=\"https://colab.research.google.com/assets/colab-badge.svg\" alt=\"Open In Colab\"/></a>"
      ]
    },
    {
      "cell_type": "markdown",
      "metadata": {
        "id": "wr-qEZUaUSaI"
      },
      "source": [
        "# Лабораторная работа №2. Основы Python"
      ]
    },
    {
      "cell_type": "markdown",
      "metadata": {
        "id": "HfaDwqaVUSaJ"
      },
      "source": [
        "## Задание"
      ]
    },
    {
      "cell_type": "markdown",
      "metadata": {
        "id": "uzOHmD8zUSaJ"
      },
      "source": [
        "Выполните следующие задания:\n",
        "\n",
        "1. Открыл в файл в Google Colab (используя собственный форк репозитория).\n",
        "2. Решил задачи.\n",
        "3. Сохранил результат в репозиторий github в директорию ./les02\n",
        "4. Создал pull request в репозиторий https://github.com/chebotarevsa/dap-2024\n",
        "5. Сдал работу в системе \"Пегас\", в отчете указал ссылку на pull request"
      ]
    },
    {
      "cell_type": "markdown",
      "metadata": {
        "id": "BIvOnjP-USaK"
      },
      "source": [
        "Задача №1. https://leetcode.com/problems/two-sum/"
      ]
    },
    {
      "cell_type": "code",
      "execution_count": null,
      "metadata": {
        "colab": {
          "base_uri": "https://localhost:8080/"
        },
        "id": "elYxcOuiUSaK",
        "outputId": "5fdd98ef-e2b8-4122-b061-4b34e09a47c0"
      },
      "outputs": [
        {
          "output_type": "stream",
          "name": "stdout",
          "text": [
            "[0, 1]\n",
            "[1, 2]\n",
            "[0, 1]\n"
          ]
        }
      ],
      "source": [
        "class Solution1(object):\n",
        "    def twoSum(self, nums, target):\n",
        "        \"\"\"\n",
        "        :type nums: List[int]\n",
        "        :type target: int\n",
        "        :rtype: List[int]\n",
        "        \"\"\"\n",
        "        # Ваше решение\n",
        "\n",
        "        # Создаем словарь для хранения чисел и их индексов\n",
        "        num_map = {}\n",
        "\n",
        "        # Проходим по массиву\n",
        "        for i, num in enumerate(nums):\n",
        "            # Вычисляем необходимое число для достижения target\n",
        "            complement = target - num\n",
        "\n",
        "            # Если необходимое число уже есть в словаре, возвращаем индексы\n",
        "            if complement in num_map:\n",
        "                return [num_map[complement], i]\n",
        "\n",
        "            # Если нет, добавляем текущее число в словарь\n",
        "            num_map[num] = i\n",
        "\n",
        "# Тестовые примеры\n",
        "solution = Solution1()\n",
        "\n",
        "# Example 1\n",
        "print(solution.twoSum([2, 7, 11, 15], 9))  # Output: [0, 1]\n",
        "\n",
        "# Example 2\n",
        "print(solution.twoSum([3, 2, 4], 6))  # Output: [1, 2]\n",
        "\n",
        "# Example 3\n",
        "print(solution.twoSum([3, 3], 6))  # Output: [0, 1]\n"
      ]
    },
    {
      "cell_type": "markdown",
      "metadata": {
        "id": "2B75ZIUuUSaK"
      },
      "source": [
        "Задача №2. https://leetcode.com/problems/palindrome-number/description/"
      ]
    },
    {
      "cell_type": "code",
      "execution_count": null,
      "metadata": {
        "colab": {
          "base_uri": "https://localhost:8080/"
        },
        "id": "cDaEU1tzUSaK",
        "outputId": "fa49e1c2-64e2-4ec8-f970-7e575e95c4b8"
      },
      "outputs": [
        {
          "output_type": "stream",
          "name": "stdout",
          "text": [
            "True\n",
            "False\n",
            "False\n"
          ]
        }
      ],
      "source": [
        "class Solution2(object):\n",
        "    def isPalindrome(self, x):\n",
        "        \"\"\"\n",
        "        :type x: int\n",
        "        :rtype: bool\n",
        "        \"\"\"\n",
        "\n",
        "        # Ваше решение\n",
        "\n",
        "        # Отрицательные числа и числа, заканчивающиеся на 0 (кроме 0), не являются палиндромами\n",
        "        if x < 0 or (x % 10 == 0 and x != 0):\n",
        "            return False\n",
        "\n",
        "        # Переворачиваем половину числа\n",
        "        reversed_half = 0\n",
        "        while x > reversed_half:\n",
        "            reversed_half = reversed_half * 10 + x % 10\n",
        "            x //= 10\n",
        "\n",
        "        # Число является палиндромом, если:\n",
        "        # 1. Левосторонняя часть равна правосторонней (для четного количества цифр)\n",
        "        # 2. Левосторонняя часть равна правосторонней без центральной цифры (для нечетного количества цифр)\n",
        "        return x == reversed_half or x == reversed_half // 10\n",
        "\n",
        "# Примеры использования\n",
        "solution = Solution2()\n",
        "\n",
        "print(solution.isPalindrome(121))  # Output: True\n",
        "print(solution.isPalindrome(-121))  # Output: False\n",
        "print(solution.isPalindrome(10))  # Output: False\n"
      ]
    },
    {
      "cell_type": "markdown",
      "metadata": {
        "id": "eurMqAJtUSaK"
      },
      "source": [
        "Задача №3. https://leetcode.com/problems/roman-to-integer/description/"
      ]
    },
    {
      "cell_type": "code",
      "execution_count": null,
      "metadata": {
        "colab": {
          "base_uri": "https://localhost:8080/"
        },
        "id": "YLjE4Tl5USaK",
        "outputId": "f04e99e1-05cf-419a-d52b-c8daad0ed29d"
      },
      "outputs": [
        {
          "output_type": "stream",
          "name": "stdout",
          "text": [
            "3\n",
            "58\n",
            "1994\n"
          ]
        }
      ],
      "source": [
        "class Solution3(object):\n",
        "    def romanToInt(self, s):\n",
        "        \"\"\"\n",
        "        :type s: str\n",
        "        :rtype: int\n",
        "        \"\"\"\n",
        "\n",
        "        # Ваше решение\n",
        "\n",
        "        # Словарь с основными символами и их значениями\n",
        "        roman_map = {\n",
        "            'I': 1, 'V': 5, 'X': 10, 'L': 50,\n",
        "            'C': 100, 'D': 500, 'M': 1000\n",
        "        }\n",
        "\n",
        "        # Итоговая сумма\n",
        "        result = 0\n",
        "\n",
        "        # Проходим по строке\n",
        "        for i in range(len(s)):\n",
        "            # Если текущий символ меньше следующего, вычитаем его значение\n",
        "            if i + 1 < len(s) and roman_map[s[i]] < roman_map[s[i + 1]]:\n",
        "                result -= roman_map[s[i]]\n",
        "            else:\n",
        "                result += roman_map[s[i]]\n",
        "\n",
        "        return result\n",
        "\n",
        "# Примеры использования\n",
        "solution = Solution3()\n",
        "\n",
        "print(solution.romanToInt(\"III\"))       # Output: 3\n",
        "print(solution.romanToInt(\"LVIII\"))    # Output: 58\n",
        "print(solution.romanToInt(\"MCMXCIV\"))  # Output: 1994\n"
      ]
    },
    {
      "cell_type": "markdown",
      "metadata": {
        "id": "uLdNmnWbUSaL"
      },
      "source": [
        "Задача №4. https://leetcode.com/problems/longest-common-prefix/description/"
      ]
    },
    {
      "cell_type": "code",
      "execution_count": null,
      "metadata": {
        "colab": {
          "base_uri": "https://localhost:8080/"
        },
        "id": "gGHTTb7uUSaL",
        "outputId": "a1d9c786-8bd1-4f55-acc8-e553440e3c12"
      },
      "outputs": [
        {
          "output_type": "stream",
          "name": "stdout",
          "text": [
            "fl\n",
            "\n"
          ]
        }
      ],
      "source": [
        "class Solution4(object):\n",
        "    def longestCommonPrefix(self, strs):\n",
        "        \"\"\"\n",
        "        :type strs: List[str]\n",
        "        :rtype: str\n",
        "        \"\"\"\n",
        "        # Ваше решение\n",
        "\n",
        "        # Если массив пустой, возвращаем пустую строку\n",
        "        if not strs:\n",
        "            return \"\"\n",
        "\n",
        "        # Берем первый элемент как начальный префикс\n",
        "        prefix = strs[0]\n",
        "\n",
        "        # Сравниваем с каждым словом в массиве\n",
        "        for string in strs[1:]:\n",
        "            # Пока строка не содержит текущий префикс, обрезаем префикс\n",
        "            while not string.startswith(prefix):\n",
        "                prefix = prefix[:-1]\n",
        "                # Если префикс пустой, возвращаем пустую строку\n",
        "                if not prefix:\n",
        "                    return \"\"\n",
        "\n",
        "        return prefix\n",
        "\n",
        "# Примеры использования\n",
        "solution = Solution4()\n",
        "\n",
        "print(solution.longestCommonPrefix([\"flower\", \"flow\", \"flight\"]))  # Output: \"fl\"\n",
        "print(solution.longestCommonPrefix([\"dog\", \"racecar\", \"car\"]))     # Output: \"\"\n"
      ]
    },
    {
      "cell_type": "markdown",
      "metadata": {
        "id": "cgKWmsBuUSaL"
      },
      "source": [
        "Задача №5. https://leetcode.com/problems/merge-two-sorted-lists/description/"
      ]
    },
    {
      "cell_type": "code",
      "execution_count": null,
      "metadata": {
        "colab": {
          "base_uri": "https://localhost:8080/"
        },
        "id": "y8hE_rtlUSaL",
        "outputId": "135d6569-88ca-4147-c3de-98ab0dc22414"
      },
      "outputs": [
        {
          "output_type": "stream",
          "name": "stdout",
          "text": [
            "[1, 1, 2, 3, 4, 4]\n",
            "[]\n",
            "[0]\n"
          ]
        }
      ],
      "source": [
        "# Определение класса ListNode для узлов связанного списка\n",
        "class ListNode(object):\n",
        "    def __init__(self, val=0, next=None):\n",
        "        self.val = val\n",
        "        self.next = next\n",
        "\n",
        "class Solution5(object):\n",
        "    def mergeTwoLists(self, list1, list2):\n",
        "        \"\"\"\n",
        "        :type list1: Optional[ListNode]\n",
        "        :type list2: Optional[ListNode]\n",
        "        :rtype: Optional[ListNode]\n",
        "        \"\"\"\n",
        "        # Создаем фиктивный узел для удобства\n",
        "        dummy = ListNode()\n",
        "        current = dummy\n",
        "\n",
        "        # Пока оба списка не пусты\n",
        "        while list1 and list2:\n",
        "            # Сравниваем значения текущих узлов\n",
        "            if list1.val <= list2.val:\n",
        "                current.next = list1\n",
        "                list1 = list1.next\n",
        "            else:\n",
        "                current.next = list2\n",
        "                list2 = list2.next\n",
        "            current = current.next\n",
        "\n",
        "        # Если один из списков еще не пуст, добавляем его в конец\n",
        "        if list1:\n",
        "            current.next = list1\n",
        "        if list2:\n",
        "            current.next = list2\n",
        "\n",
        "        # Возвращаем голову нового списка (после фиктивного узла)\n",
        "        return dummy.next\n",
        "\n",
        "# Примеры использования\n",
        "def print_list(node):\n",
        "    result = []\n",
        "    while node:\n",
        "        result.append(node.val)\n",
        "        node = node.next\n",
        "    print(result)\n",
        "\n",
        "# Создание примеров\n",
        "list1 = ListNode(1, ListNode(2, ListNode(4)))\n",
        "list2 = ListNode(1, ListNode(3, ListNode(4)))\n",
        "\n",
        "solution = Solution5()\n",
        "\n",
        "# Пример 1\n",
        "merged_list = solution.mergeTwoLists(list1, list2)\n",
        "print_list(merged_list)  # Output: [1, 1, 2, 3, 4, 4]\n",
        "\n",
        "# Пример 2\n",
        "list1 = None\n",
        "list2 = None\n",
        "merged_list = solution.mergeTwoLists(list1, list2)\n",
        "print_list(merged_list)  # Output: []\n",
        "\n",
        "# Пример 3\n",
        "list1 = None\n",
        "list2 = ListNode(0)\n",
        "merged_list = solution.mergeTwoLists(list1, list2)\n",
        "print_list(merged_list)  # Output: [0]\n"
      ]
    },
    {
      "cell_type": "markdown",
      "metadata": {
        "id": "aKGlWWspUSaL"
      },
      "source": [
        "Задача №6. https://leetcode.com/problems/longest-substring-without-repeating-characters/description/"
      ]
    },
    {
      "cell_type": "code",
      "execution_count": null,
      "metadata": {
        "colab": {
          "base_uri": "https://localhost:8080/"
        },
        "id": "brj0SMsFUSaL",
        "outputId": "0ac9363c-4cf1-49ac-e70b-cc6b28be7b35"
      },
      "outputs": [
        {
          "output_type": "stream",
          "name": "stdout",
          "text": [
            "3\n",
            "1\n",
            "3\n"
          ]
        }
      ],
      "source": [
        "class Solution(object):\n",
        "    def lengthOfLongestSubstring(self, s):\n",
        "        \"\"\"\n",
        "        :type s: str\n",
        "        :rtype: int\n",
        "        \"\"\"\n",
        "\n",
        "        # Ваше решение\n",
        "\n",
        "        # Множество для отслеживания уникальных символов\n",
        "        char_set = set()\n",
        "        # Указатели для левой и правой границы окна\n",
        "        left = 0\n",
        "        # Максимальная длина подстроки\n",
        "        max_length = 0\n",
        "\n",
        "        # Проходим по строке правым указателем\n",
        "        for right in range(len(s)):\n",
        "            # Если символ уже есть в множестве, сдвигаем левый указатель\n",
        "            while s[right] in char_set:\n",
        "                char_set.remove(s[left])\n",
        "                left += 1\n",
        "            # Добавляем текущий символ в множество\n",
        "            char_set.add(s[right])\n",
        "            # Обновляем максимальную длину подстроки\n",
        "            max_length = max(max_length, right - left + 1)\n",
        "\n",
        "        return max_length\n",
        "\n",
        "# Примеры использования\n",
        "solution = Solution()\n",
        "\n",
        "# Пример 1\n",
        "print(solution.lengthOfLongestSubstring(\"abcabcbb\"))  # Output: 3\n",
        "\n",
        "# Пример 2\n",
        "print(solution.lengthOfLongestSubstring(\"bbbbb\"))  # Output: 1\n",
        "\n",
        "# Пример 3\n",
        "print(solution.lengthOfLongestSubstring(\"pwwkew\"))  # Output: 3\n"
      ]
    },
    {
      "cell_type": "markdown",
      "metadata": {
        "id": "vvHW_6tZUSaL"
      },
      "source": [
        "# Ответы на вопросы\n",
        "\n",
        "## 1. Что такое динамическая типизация и чем она отличается от статической?\n",
        "- **Динамическая типизация**: Тип переменной определяется во время выполнения программы. В Python тип переменной может меняться.\n",
        "- **Статическая типизация**: Тип переменной указывается явно и не может быть изменен (например, в C++ или Java).\n",
        "\n",
        "---\n",
        "\n",
        "## 2. Чем отличается цикл `for` в Python от цикла `for` в C++?\n",
        "- В **Python** цикл `for` итерируется по элементам списка, строки или другого итерабельного объекта.\n",
        "- В **C++** `for` обычно используется как счетный цикл, с явным указанием начального значения, конечного значения и шага.\n",
        "\n",
        "---\n",
        "\n",
        "## 3. Для чего предназначены операторы `continue` и `break`?\n",
        "- **`continue`**: Пропускает текущую итерацию цикла и переходит к следующей.\n",
        "- **`break`**: Завершает выполнение цикла досрочно.\n",
        "\n",
        "---\n",
        "\n",
        "## 4. Как определить функцию в Python? Может ли функция возвращать несколько значений?\n",
        "```python\n",
        "# Определение функции\n",
        "def my_function(a, b):\n",
        "    return a + b\n",
        "\n",
        "# Функция может возвращать несколько значений\n",
        "def multiple_returns():\n",
        "    return 1, 2, 3\n",
        "\n",
        "# Пример использования\n",
        "a, b, c = multiple_returns()\n",
        "print(a, b, c)  # Output: 1 2 3\n",
        "```\n",
        "---\n",
        "\n",
        "##5. Что такое лямбда-функции и для чего они предназначены?  \n",
        "- **Лямбда-функции** — это анонимные функции, создаваемые с помощью ключевого слова `lambda`.  \n",
        "Пример:   \n",
        "```python\n",
        "square = lambda x: x * x\n",
        "print(square(5))  # Output: 25\n",
        "```\n",
        "---\n",
        "\n",
        "## 6. Может ли тело функции содержать определение другой функции?  \n",
        "- Да, можно.  \n",
        "Пример:\n",
        "```python\n",
        "def outer_function():\n",
        "    def inner_function():\n",
        "        print(\"Inner function\")\n",
        "    inner_function()\n",
        "outer_function()\n",
        "```\n",
        "---\n",
        "\n",
        "## 7. Как определить класс в Python? Для чего нужна переменная `self`?  \n",
        "```python\n",
        "# Определение класса  \n",
        "class MyClass:\n",
        "    def __init__(self, value):\n",
        "      self.value = value\n",
        "```\n",
        "- **`self`** используется для доступа к атрибутам экземпляра\n",
        "\n",
        "---\n",
        "\n",
        "## 8. Как определить приватный метод? Можно ли вызвать приватный метод за пределами класса?  \n",
        "```python\n",
        "# Приватный метод\n",
        "class MyClass:\n",
        "    def __init__(self):\n",
        "        self.__private_method()\n",
        "\n",
        "    def __private_method(self):\n",
        "        print(\"This is a private method\")\n",
        "\n",
        "# Доступ к приватному методу\n",
        "obj = MyClass()\n",
        "# obj.__private_method()  # Ошибка\n",
        "# obj._MyClass__private_method()  # Работает, но не рекомендуется\n",
        "```\n",
        "---\n",
        "\n",
        "## 9. Как определить статический метод класса? Для чего может понадобиться статический метод?  \n",
        "``` python\n",
        "class MyClass:\n",
        "    @staticmethod\n",
        "    def static_method():\n",
        "        print(\"Static method called\")\n",
        "```\n",
        "- **Статические методы** не требуют создания экземпляра класса и используются для операций, не связанных с состоянием объекта.  \n",
        "---\n",
        "\n",
        "## 10. Чем `staticmethod` отличается от `classmethod`?  \n",
        "- **`@staticmethod`** не принимает аргумент `self` или `cls`.\n",
        "- **`@classmethod`** принимает `cls` (ссылку на класс).\n",
        "```python\n",
        "class MyClass:\n",
        "    @staticmethod\n",
        "    def static_method():\n",
        "        print(\"Static method\")\n",
        "\n",
        "    @classmethod\n",
        "    def class_method(cls):\n",
        "        print(f\"Class method called from {cls}\")\n",
        "```\n",
        "---\n",
        "\n",
        "## 11. Как определить собственный класс исключений? Как выбросить и перехватить исключение?  \n",
        "```python\n",
        "# Определение класса исключения\n",
        "class MyException(Exception):\n",
        "    pass\n",
        "\n",
        "# Выбрасывание и перехват исключения\n",
        "try:\n",
        "    raise MyException(\"Something went wrong\")\n",
        "except MyException as e:\n",
        "    print(e)\n",
        "```\n",
        "---\n",
        "\n",
        "## 12. Что такое кортеж, для чего он используется?  \n",
        "- **Кортеж** — это неизменяемая последовательность элементов. Пример:\n",
        "```python\n",
        "my_tuple = (1, 2, 3)\n",
        "print(my_tuple[0])  # Output: 1\n",
        "```\n",
        "- Используется для хранения данных, которые не должны изменяться."
      ]
    }
  ],
  "metadata": {
    "language_info": {
      "name": "python"
    },
    "colab": {
      "provenance": [],
      "include_colab_link": true
    },
    "kernelspec": {
      "name": "python3",
      "display_name": "Python 3"
    }
  },
  "nbformat": 4,
  "nbformat_minor": 0
}